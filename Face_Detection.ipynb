{
 "cells": [
  {
   "cell_type": "code",
   "execution_count": null,
   "id": "f7cc6a8f",
   "metadata": {},
   "outputs": [],
   "source": [
    "#Generating dataset\n",
    "import cv2\n",
    "def generate_dataset():\n",
    "    face_classifier = cv2.CascadeClassifier(\"opencv-files/haarcascade_frontalface_alt.xml\")\n",
    "    def face_cropped(img):\n",
    "        gray = cv2.cvtColor(img, cv2.COLOR_BGR2GRAY)\n",
    "        faces = face_classifier.detectMultiScale(gray, 1.3, 5) #1.3 is scaling factor, 5 is the minimum neighbor\n",
    "\n",
    "        if faces is ():\n",
    "            return None\n",
    "        for (x,y,w,h) in faces:\n",
    "            cropped_face = img[y:y+h,x:x+w]\n",
    "        return cropped_face\n",
    "    cap = cv2.VideoCapture(0) \n",
    "    #1 or -1 for external web cam\n",
    "    id = 1 #We change this based on the number of users we have\n",
    "    #Id of first authorized person\n",
    "    img_id = 0\n",
    "    \n",
    "    while True:\n",
    "        ret,frame = cap.read()\n",
    "        if face_cropped(frame) is not None:\n",
    "            img_id+=1 #Increasing the image ID for exisitng images\n",
    "            face = cv2.resize(face_cropped(frame),(200,200))  # resize our image\n",
    "            face = cv2.cvtColor(face, cv2.COLOR_BGR2GRAY)\n",
    "            file_name_path = \"data/User.\"+str(id)+\".\"+str(img_id)+\".jpg\"\n",
    "            cv2.imwrite(file_name_path,face)\n",
    "            cv2.putText(face,str(img_id),(50,50),cv2.FONT_HERSHEY_SIMPLEX,1, (0,255,0),2)\n",
    "            #(50,50) is the origin point from where text is to be written\n",
    "            #fonta scale = 1\n",
    "            #thickness = 2\n",
    "            \n",
    "            cv2.imshow(\"Cropped face\", face)\n",
    "            if cv2.waitKey(1)==13 or int(img_id)==30:\n",
    "                break\n",
    "            #13 is the ask value for enter key. So, pressing 13 takes you fro the loop\n",
    "    cap.release()\n",
    "    cv2.destroyAllWindows()\n",
    "    print(\"We're done collecting samples\")\n",
    "generate_dataset()"
   ]
  }
 ],
 "metadata": {
  "kernelspec": {
   "display_name": "Python 3 (ipykernel)",
   "language": "python",
   "name": "python3"
  },
  "language_info": {
   "codemirror_mode": {
    "name": "ipython",
    "version": 3
   },
   "file_extension": ".py",
   "mimetype": "text/x-python",
   "name": "python",
   "nbconvert_exporter": "python",
   "pygments_lexer": "ipython3",
   "version": "3.9.12"
  }
 },
 "nbformat": 4,
 "nbformat_minor": 5
}
